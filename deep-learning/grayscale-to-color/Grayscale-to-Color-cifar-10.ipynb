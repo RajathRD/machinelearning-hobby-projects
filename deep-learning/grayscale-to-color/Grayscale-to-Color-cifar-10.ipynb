{
 "cells": [
  {
   "cell_type": "code",
   "execution_count": null,
   "metadata": {
    "collapsed": true
   },
   "outputs": [],
   "source": [
    "import numpy as np\n",
    "import matplotlib.pyplot as plt\n",
    "import cPickle\n",
    "\n",
    "with open(\"cifar-10-batches-py/data_batch_1\", \"rb\") as f:\n",
    "    data = cPickle.load(f)\n",
    "    \n",
    "    "
   ]
  },
  {
   "cell_type": "code",
   "execution_count": null,
   "metadata": {},
   "outputs": [],
   "source": [
    "color_X = data['data'].reshape(-1, 3, 32, 32)\n",
    "color_X = np.rollaxis(color_X, 1, 4)\n",
    "\n",
    "print color_X.shape"
   ]
  },
  {
   "cell_type": "code",
   "execution_count": null,
   "metadata": {},
   "outputs": [],
   "source": [
    "grayscale_weights = np.array([0.3, 0.59, 0.11])\n",
    "gray_X = np.dot(color_X, grayscale_weights)\n",
    "\n",
    "print gray_X.shape"
   ]
  },
  {
   "cell_type": "code",
   "execution_count": null,
   "metadata": {},
   "outputs": [],
   "source": [
    "num = 100\n",
    "\n",
    "plt.subplot(121)\n",
    "plt.imshow(color_X[num], 'gray')\n",
    "\n",
    "plt.subplot(122)\n",
    "plt.imshow(gray_X[num], 'gray')\n",
    "\n",
    "plt.show()"
   ]
  },
  {
   "cell_type": "code",
   "execution_count": null,
   "metadata": {
    "collapsed": true
   },
   "outputs": [],
   "source": [
    "color_X = (color_X/255.0).reshape(-1, 32*32*3)\n",
    "gray_X = (gray_X/255.0).reshape(-1, 32, 32, 1)"
   ]
  },
  {
   "cell_type": "code",
   "execution_count": null,
   "metadata": {},
   "outputs": [],
   "source": [
    "import tensorflow as tf\n",
    "\n",
    "learning_rate = 0.1\n",
    "epochs = 100\n",
    "train_step = 0\n",
    "\n",
    "tf.reset_default_graph()\n",
    "\n",
    "X = tf.placeholder(tf.float32, shape=(None, 32, 32, 1))\n",
    "Y = tf.placeholder(tf.float32, shape=(None, 32*32*3))\n",
    "\n",
    "def conv2d(layer, name, filters, stddev):\n",
    "    activation_fn = tf.nn.relu\n",
    "    return tf.layers.conv2d(layer, name=name, filters=filters,\\\n",
    "                          activation=activation_fn,\\\n",
    "                          kernel_size=(3, 3), strides=(1,1),\\\n",
    "                          padding='SAME',\\\n",
    "                          kernel_initializer=tf.truncated_normal_initializer(mean=0.0, stddev=1e-2, dtype=tf.float32),\\\n",
    "                          bias_initializer=tf.zeros_initializer(),\\\n",
    "                          trainable=True, use_bias=True)\n",
    "\n",
    "def fc(layer, name, size, stddev):\n",
    "    activation_fn = tf.nn.relu\n",
    "    return tf.layers.dense(layer, size, activation=activation_fn,\\\n",
    "                                name=name, trainable=True,\\\n",
    "                                kernel_initializer=tf.truncated_normal_initializer(mean=0.0, dtype=tf.float32, stddev=stddev),\\\n",
    "                                bias_initializer=tf.zeros_initializer(),\\\n",
    "                                kernel_regularizer=tf.nn.l2_loss,\\\n",
    "                                use_bias=True)\n",
    "\n",
    "conv_1 = conv2d(X,\"conv_1\", 64, 1e-2)\n",
    "max_pool_1 = tf.layers.max_pooling2d(conv_1, (2, 2), (2, 2), padding='SAME')\n",
    "\n",
    "conv_2 = conv2d(max_pool_1,\"conv_2\", 128, 1e-2)\n",
    "max_pool_2 = tf.layers.max_pooling2d(conv_2, (2, 2), (2, 2), padding='SAME')\n",
    "\n",
    "conv_3 = conv2d(max_pool_2,\"conv_3\", 256, 1e-2)\n",
    "\n",
    "conv_out = tf.reshape(conv_3, shape=(-1, 8*8*256))\n",
    "\n",
    "\n",
    "fc_1 = fc(conv_out, 'fc_1', 4096, 1e-2)\n",
    "\n",
    "logits = fc(fc_1, 'logits', 32*32*3, 1e-2)\n",
    "\n",
    "loss = tf.losses.mean_squared_error(labels=tf.reshape(Y, shape=(-1, 32*32*3)), predictions=logits)\n",
    "\n",
    "train_op = tf.train.GradientDescentOptimizer(learning_rate).minimize(loss)\n",
    "\n",
    "init = tf.global_variables_initializer()\n",
    "with tf.Session() as sess:\n",
    "    sess.run(init)\n",
    "    for i in xrange(100):\n",
    "        val, _ = sess.run([loss, train_op], feed_dict={X: gray_X[:200], Y: color_X[:200]})\n",
    "        print \"Loss: \", val\n"
   ]
  }
 ],
 "metadata": {
  "kernelspec": {
   "display_name": "Python [conda env:py2]",
   "language": "python",
   "name": "conda-env-py2-py"
  },
  "language_info": {
   "codemirror_mode": {
    "name": "ipython",
    "version": 2
   },
   "file_extension": ".py",
   "mimetype": "text/x-python",
   "name": "python",
   "nbconvert_exporter": "python",
   "pygments_lexer": "ipython2",
   "version": "2.7.13"
  }
 },
 "nbformat": 4,
 "nbformat_minor": 2
}
