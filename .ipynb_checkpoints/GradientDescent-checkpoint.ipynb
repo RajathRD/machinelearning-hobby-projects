{
 "cells": [
  {
   "cell_type": "code",
   "execution_count": 72,
   "metadata": {
    "collapsed": false
   },
   "outputs": [],
   "source": [
    "import numpy as np\n",
    "import matplotlib.pyplot as plt\n",
    "\n",
    "N = 100\n",
    "num_w = 4 #6\n",
    "# Gradient Descent Algorithm\n",
    "def gradient_desc(x,w,y):\n",
    "    rate = 0.0001 # 9+1\n",
    "    augmented_x = np.array([x**0])\n",
    "    for i in range(1,num_w):\n",
    "        augmented_x = np.vstack([augmented_x, x**i ])\n",
    "    iterations = 1000000 #6\n",
    "    \n",
    "    for i in range(0,iterations):\n",
    "        ybar = np.dot(w,augmented_x)\n",
    "        w = w - ( rate * ( np.dot( ( ybar - y ),augmented_x.T ) )/2*N )\n",
    "    return w\n"
   ]
  },
  {
   "cell_type": "code",
   "execution_count": 73,
   "metadata": {
    "collapsed": false
   },
   "outputs": [],
   "source": [
    "# Generate Data \n",
    "samples = np.random.normal(0, 0.01, N)\n",
    "x = np.linspace(0,2*np.pi,N) \n",
    "\n",
    "#y = np.sin(x/3) + np.cos(2*x)\n",
    "y = 3*x**2 + 2*x**3 + samples"
   ]
  },
  {
   "cell_type": "code",
   "execution_count": 74,
   "metadata": {
    "collapsed": false
   },
   "outputs": [
    {
     "name": "stdout",
     "output_type": "stream",
     "text": [
      "[ 1.02148189  1.08418044  1.32370605  2.2647292 ]\n"
     ]
    }
   ],
   "source": [
    "w = np.ones(num_w)\n",
    "weights = gradient_desc(x,w,y)\n",
    "print (weights)"
   ]
  },
  {
   "cell_type": "code",
   "execution_count": 75,
   "metadata": {
    "collapsed": false
   },
   "outputs": [
    {
     "name": "stdout",
     "output_type": "stream",
     "text": [
      "Weights:  [ 1.02148189  1.08418044  1.32370605  2.2647292 ]\n",
      "Prediction:  1.02148188838\n"
     ]
    }
   ],
   "source": [
    "augmented_x = np.array([x**0])\n",
    "for i in range(1,num_w):\n",
    "    augmented_x = np.vstack([augmented_x, x**i ])\n",
    "\n",
    "print (\"Weights: \",weights) # actual weights\n",
    "\n",
    "prediction = np.dot(weights,augmented_x)\n",
    "print (\"Prediction: \",prediction[0]) # to check if NaN\n",
    "plt.plot (x,y,x,prediction)\n",
    "plt.show()"
   ]
  },
  {
   "cell_type": "code",
   "execution_count": null,
   "metadata": {
    "collapsed": false
   },
   "outputs": [],
   "source": [
    "\n",
    "        \n",
    "       "
   ]
  },
  {
   "cell_type": "code",
   "execution_count": null,
   "metadata": {
    "collapsed": false
   },
   "outputs": [],
   "source": []
  },
  {
   "cell_type": "code",
   "execution_count": null,
   "metadata": {
    "collapsed": true
   },
   "outputs": [],
   "source": []
  }
 ],
 "metadata": {
  "anaconda-cloud": {},
  "kernelspec": {
   "display_name": "Python [Root]",
   "language": "python",
   "name": "Python [Root]"
  },
  "language_info": {
   "codemirror_mode": {
    "name": "ipython",
    "version": 3
   },
   "file_extension": ".py",
   "mimetype": "text/x-python",
   "name": "python",
   "nbconvert_exporter": "python",
   "pygments_lexer": "ipython3",
   "version": "3.5.2"
  }
 },
 "nbformat": 4,
 "nbformat_minor": 0
}
