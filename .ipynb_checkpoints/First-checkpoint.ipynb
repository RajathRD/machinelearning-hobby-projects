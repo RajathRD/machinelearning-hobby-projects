{
 "cells": [
  {
   "cell_type": "code",
   "execution_count": 146,
   "metadata": {
    "collapsed": false
   },
   "outputs": [],
   "source": [
    "import numpy as np\n",
    "import matplotlib.pyplot as plt\n",
    "\n",
    "def f(x):\n",
    "    return 10 + 1.5*x - 1.25*x**2 - 2*x**3 + 0.01*x**4\n",
    "\n",
    "def gradient_desc(w):\n",
    "    sum = 0\n",
    "    for i in range(0,500):\n",
    "        for j in w:\n",
    "            sum += ( j * i )\n",
    "    desc += 2 * ( sum - y )* ( i*i )\n",
    "        \n",
    "\n",
    "mean = 0\n",
    "std = 5\n",
    "num_samples = 500\n",
    "samples = numpy.random.normal(mean, std, num_samples)\n",
    "\n"
   ]
  },
  {
   "cell_type": "code",
   "execution_count": 147,
   "metadata": {
    "collapsed": false
   },
   "outputs": [],
   "source": [
    "y = []\n",
    "x = []\n",
    "for i,j in zip(range(0,500),range(0,50)):\n",
    "    y.append ( f(i) + samples[i])\n",
    "    x.append ( i )\n",
    "plt.plot(y)\n",
    "plt.show()"
   ]
  },
  {
   "cell_type": "code",
   "execution_count": null,
   "metadata": {
    "collapsed": false
   },
   "outputs": [],
   "source": [
    "w = [1,1,1,1,1]"
   ]
  },
  {
   "cell_type": "code",
   "execution_count": null,
   "metadata": {
    "collapsed": true
   },
   "outputs": [],
   "source": []
  },
  {
   "cell_type": "code",
   "execution_count": null,
   "metadata": {
    "collapsed": true
   },
   "outputs": [],
   "source": []
  }
 ],
 "metadata": {
  "kernelspec": {
   "display_name": "Python [Root]",
   "language": "python",
   "name": "Python [Root]"
  },
  "language_info": {
   "codemirror_mode": {
    "name": "ipython",
    "version": 3
   },
   "file_extension": ".py",
   "mimetype": "text/x-python",
   "name": "python",
   "nbconvert_exporter": "python",
   "pygments_lexer": "ipython3",
   "version": "3.5.2"
  }
 },
 "nbformat": 4,
 "nbformat_minor": 0
}
